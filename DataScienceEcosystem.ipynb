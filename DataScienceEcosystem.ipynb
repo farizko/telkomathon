{
 "cells": [
  {
   "cell_type": "code",
   "execution_count": 1,
   "id": "caf4aa80",
   "metadata": {},
   "outputs": [
    {
     "name": "stdout",
     "output_type": "stream",
     "text": [
      "this is farizkos file\n"
     ]
    }
   ],
   "source": [
    "print(\"this is farizkos file\")"
   ]
  },
  {
   "cell_type": "markdown",
   "id": "e6664d9f",
   "metadata": {},
   "source": [
    "<h1>Data Science Tools and Ecosystem</h1>"
   ]
  },
  {
   "cell_type": "markdown",
   "id": "bfb268e8",
   "metadata": {},
   "source": [
    "<h3>In this notebook, Data Science Tools and Ecosystem are summarized.</h3>"
   ]
  },
  {
   "cell_type": "markdown",
   "id": "90a3b31a",
   "metadata": {},
   "source": [
    "<b>with key takeaways as below:</b>\n",
    "<ul>\n",
    "    <li>Programming languages: Python and R are the two most commonly used languages in data science</li>\n",
    "    <li>Machine Learning Libraries: Libraries such as Scikit-learn, TensorFlow, PyTorch in Python have made it easier to implement machine learning models</li>\n",
    "    <li>Data Visualization Tools: Matplotlib and Seaborn in Python, and ggplot2 in R are popular for creating static and aesthetic graphs.</li>\n",
    "</ul>"
   ]
  },
  {
   "cell_type": "markdown",
   "id": "3ec64082",
   "metadata": {},
   "source": [
    "Some of the popular languages that Data Scientists use are:"
   ]
  },
  {
   "cell_type": "markdown",
   "id": "2c98b468",
   "metadata": {},
   "source": [
    "<ol>\n",
    "    <li>python</li>\n",
    "    <li>R</li>\n",
    "    <li>noSQL</li>\n",
    "</ol>"
   ]
  },
  {
   "cell_type": "markdown",
   "id": "a2c78662",
   "metadata": {},
   "source": [
    "Some of the commonly used libraries used by Data Scientists include:\n",
    "<ol>\n",
    "    <li>TensorFlow</li>\n",
    "    <li>NumPy</li>\n",
    "    <li>SciPy</li>\n",
    "    <li>Pandas</li>\n",
    "</ol>"
   ]
  },
  {
   "cell_type": "markdown",
   "id": "71ef980d",
   "metadata": {},
   "source": [
    "There are several data science tools:\n",
    "<table>\n",
    "    <tr>\n",
    "        <th>Data Science Tools</th>\n",
    "    </tr>\n",
    "    <tr>\n",
    "        <th>Tableau</th>\n",
    "    </tr>\n",
    "    <tr>\n",
    "        <th>Matlab</th>\n",
    "    </tr>\n",
    "    <tr>\n",
    "        <th>Python</th>\n",
    "    </tr>\n",
    "</table>"
   ]
  },
  {
   "cell_type": "markdown",
   "id": "2e391c46",
   "metadata": {},
   "source": [
    "<h3>Below are a few examples of evaluating arithmetic expressions in Python</h3>\n"
   ]
  },
  {
   "cell_type": "code",
   "execution_count": 2,
   "id": "c0847031",
   "metadata": {},
   "outputs": [
    {
     "data": {
      "text/plain": [
       "17"
      ]
     },
     "execution_count": 2,
     "metadata": {},
     "output_type": "execute_result"
    }
   ],
   "source": [
    "#This a simple arithmetic expression to mutiply then add integers\n",
    "(3*4)+5"
   ]
  },
  {
   "cell_type": "code",
   "execution_count": 4,
   "id": "eb688985",
   "metadata": {},
   "outputs": [
    {
     "name": "stdout",
     "output_type": "stream",
     "text": [
      "3.3333333333333335  hours\n"
     ]
    }
   ],
   "source": [
    "# This will convert 200 minutes to hours by diving by 60\n",
    "print(200/60,\" hours\") "
   ]
  },
  {
   "cell_type": "markdown",
   "id": "07c11e7a",
   "metadata": {},
   "source": [
    "<h2>Author</h2>\n",
    "Muhammad Farizko Nurditama"
   ]
  },
  {
   "cell_type": "code",
   "execution_count": null,
   "id": "716bbaf7",
   "metadata": {},
   "outputs": [],
   "source": []
  }
 ],
 "metadata": {
  "kernelspec": {
   "display_name": "Python 3 (ipykernel)",
   "language": "python",
   "name": "python3"
  },
  "language_info": {
   "codemirror_mode": {
    "name": "ipython",
    "version": 3
   },
   "file_extension": ".py",
   "mimetype": "text/x-python",
   "name": "python",
   "nbconvert_exporter": "python",
   "pygments_lexer": "ipython3",
   "version": "3.9.12"
  }
 },
 "nbformat": 4,
 "nbformat_minor": 5
}
